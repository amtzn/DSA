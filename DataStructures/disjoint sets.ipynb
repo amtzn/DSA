{
 "cells": [
  {
   "cell_type": "markdown",
   "id": "dd7a5a2b-0689-4d31-8db1-50b9ba015160",
   "metadata": {},
   "source": [
    "# Disjoint Sets"
   ]
  },
  {
   "cell_type": "markdown",
   "id": "5a4e1281-3996-4338-890a-c904821d92a4",
   "metadata": {},
   "source": [
    "### List concatenation"
   ]
  },
  {
   "cell_type": "code",
   "execution_count": 98,
   "id": "c558a4bd-7559-4198-b0b1-5a6ffc2aa044",
   "metadata": {},
   "outputs": [],
   "source": [
    "class Node1:\n",
    "    def __init__(self, next=None, rp=None, size=0, last=None):\n",
    "        self.next = next\n",
    "        self.rp = rp\n",
    "        self.size = size\n",
    "        self.last = last"
   ]
  },
  {
   "cell_type": "code",
   "execution_count": 100,
   "id": "dec2c607-0b17-4099-8ef0-da098e8f0041",
   "metadata": {},
   "outputs": [],
   "source": [
    "class DisjointSet1:\n",
    "    def __init__(self, n):\n",
    "        self.ds = [Node1() for _ in range(n)]\n",
    "\n",
    "    def make_set(self, x):\n",
    "        s = self.ds[x]\n",
    "        s.rp = x\n",
    "        s.last = self.ds[x]\n",
    "        s.size = 1\n",
    "\n",
    "    def find(self, x):\n",
    "        return self.ds[x].rp\n",
    "\n",
    "    def union(self, x, y):\n",
    "        if self.ds[x].size < self.ds[y].size:\n",
    "            y, x = x, y\n",
    "        self.ds[x].last.next = self.ds[y]\n",
    "        self.ds[x].last = self.ds[y].last\n",
    "        self.ds[x].size += self.ds[y].size\n",
    "        curr = self.ds[y]\n",
    "        while curr:\n",
    "            curr.rp = x\n",
    "            curr = curr.next\n",
    "\n",
    "    def print(self):\n",
    "        for i, node in enumerate(self.ds):\n",
    "            print(\"node:\", i, \"\\n\", \"details:\", \" rp=\" + str(node.rp) + \" next=\" + str(node.next) + \" size=\" + str(node.size) + \" last=\" + str(node.last))        \n"
   ]
  },
  {
   "cell_type": "code",
   "execution_count": 102,
   "id": "7b87b089-a8c3-4094-9cc4-2751bc2c8b36",
   "metadata": {},
   "outputs": [
    {
     "name": "stdout",
     "output_type": "stream",
     "text": [
      "node: 0 \n",
      " details:  rp=2 next=None size=1 last=<__main__.Node1 object at 0x00000164CA588FE0>\n",
      "node: 1 \n",
      " details:  rp=2 next=<__main__.Node1 object at 0x00000164CA588FE0> size=2 last=<__main__.Node1 object at 0x00000164CA588FE0>\n",
      "node: 2 \n",
      " details:  rp=2 next=<__main__.Node1 object at 0x00000164CA588530> size=4 last=<__main__.Node1 object at 0x00000164CA588FE0>\n",
      "node: 3 \n",
      " details:  rp=None next=None size=0 last=None\n",
      "node: 4 \n",
      " details:  rp=2 next=<__main__.Node1 object at 0x00000164CA5893D0> size=1 last=<__main__.Node1 object at 0x00000164CA588530>\n"
     ]
    }
   ],
   "source": [
    "n = 5\n",
    "uf = DisjointSet1(n)\n",
    "uf.make_set(0)\n",
    "uf.make_set(2)\n",
    "uf.make_set(1)\n",
    "uf.make_set(4)\n",
    "uf.union(uf.find(1), uf.find(0))\n",
    "uf.union(uf.find(2), uf.find(4))\n",
    "uf.union(uf.find(2), uf.find(0))\n",
    "uf.print()"
   ]
  },
  {
   "cell_type": "markdown",
   "id": "8099ccc1-0032-4801-88b2-623bb292713a",
   "metadata": {},
   "source": [
    "### Forest Of Trees"
   ]
  },
  {
   "cell_type": "code",
   "execution_count": 104,
   "id": "0b762601-27d7-468f-9367-758217187b6a",
   "metadata": {},
   "outputs": [],
   "source": [
    "class Node2:\n",
    "    def __init__(self, parent=None, size=0):\n",
    "        self.parent = parent\n",
    "        self.size = size"
   ]
  },
  {
   "cell_type": "code",
   "execution_count": 114,
   "id": "7d188e62-774c-4da7-b88f-5434606c6bc7",
   "metadata": {},
   "outputs": [],
   "source": [
    "class DisjointSet2:\n",
    "    def __init__(self, n):\n",
    "        self.ds = [Node2() for _ in range(n)]\n",
    "\n",
    "    def make_set(self, x):\n",
    "        self.ds[x].parent = x\n",
    "        self.ds[x].size = 1\n",
    "\n",
    "    def find(self, x):\n",
    "        if self.ds[x].parent != x:\n",
    "            self.ds[x].parent = self.find(self.ds[x].parent)\n",
    "        return self.ds[x].parent\n",
    "\n",
    "    def union(self, x, y):\n",
    "        if self.ds[x].size < self.ds[y].size:\n",
    "            x, y = y, x\n",
    "        self.ds[y].parent = x\n",
    "        self.ds[x].size += self.ds[y].size\n",
    "\n",
    "    def print(self):\n",
    "        for i, node in enumerate(self.ds):\n",
    "            print(\"node:\", i, \"\\n\", \"details:\", \" parent=\" + str(node.parent) + \" size=\" + str(node.size))  "
   ]
  },
  {
   "cell_type": "code",
   "execution_count": 118,
   "id": "fb533240-31d7-4ebd-a80f-dc019079490a",
   "metadata": {},
   "outputs": [
    {
     "name": "stdout",
     "output_type": "stream",
     "text": [
      "node: 0 \n",
      " details:  parent=1 size=1\n",
      "node: 1 \n",
      " details:  parent=2 size=2\n",
      "node: 2 \n",
      " details:  parent=2 size=4\n",
      "node: 3 \n",
      " details:  parent=None size=0\n",
      "node: 4 \n",
      " details:  parent=2 size=1\n"
     ]
    }
   ],
   "source": [
    "n = 5\n",
    "uf = DisjointSet2(n)\n",
    "uf.make_set(0)\n",
    "uf.make_set(2)\n",
    "uf.make_set(1)\n",
    "uf.make_set(4)\n",
    "uf.union(uf.find(1), uf.find(0))\n",
    "uf.union(uf.find(2), uf.find(4))\n",
    "uf.union(uf.find(2), uf.find(0))\n",
    "uf.print()\n"
   ]
  },
  {
   "cell_type": "code",
   "execution_count": null,
   "id": "b0a4fabc-9d5a-493a-9564-5a61adadf1a7",
   "metadata": {},
   "outputs": [],
   "source": []
  },
  {
   "cell_type": "code",
   "execution_count": 6,
   "id": "a7779bed-ae4f-424e-92e6-3c54aa4fdda8",
   "metadata": {},
   "outputs": [
    {
     "data": {
      "text/plain": [
       "[2, 2, 2, 2, 2, 2, 2, 2, 2, 2, 2, 2, 2, 2, 2, 2, 2, 2, 2, 2]"
      ]
     },
     "execution_count": 6,
     "metadata": {},
     "output_type": "execute_result"
    }
   ],
   "source": [
    "a = [2 for _ in range(20)]\n",
    "a"
   ]
  },
  {
   "cell_type": "code",
   "execution_count": null,
   "id": "a734c50a-8435-4321-99ce-ced15dbf8642",
   "metadata": {},
   "outputs": [],
   "source": []
  }
 ],
 "metadata": {
  "kernelspec": {
   "display_name": "Python [conda env:base] *",
   "language": "python",
   "name": "conda-base-py"
  },
  "language_info": {
   "codemirror_mode": {
    "name": "ipython",
    "version": 3
   },
   "file_extension": ".py",
   "mimetype": "text/x-python",
   "name": "python",
   "nbconvert_exporter": "python",
   "pygments_lexer": "ipython3",
   "version": "3.12.7"
  }
 },
 "nbformat": 4,
 "nbformat_minor": 5
}
