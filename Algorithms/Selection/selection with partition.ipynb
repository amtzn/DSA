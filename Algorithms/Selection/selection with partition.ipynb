{
 "cells": [
  {
   "cell_type": "markdown",
   "id": "b9f9867a-077d-4f3e-b0aa-9d090e0cd2d0",
   "metadata": {},
   "source": [
    "# Selection - with Partition "
   ]
  },
  {
   "cell_type": "raw",
   "id": "1ff22096-322a-4fe0-9bd0-e05314535fee",
   "metadata": {},
   "source": [
    "קלט: מערך של איברים מטיפוס נתונים עבורו חל יחס סדר >=\n",
    "פלט: המספר ה-i בגודלו"
   ]
  },
  {
   "cell_type": "code",
   "execution_count": 23,
   "id": "d3b05a04-0e18-488c-95e9-aebcf425622d",
   "metadata": {},
   "outputs": [],
   "source": [
    "import random"
   ]
  },
  {
   "cell_type": "code",
   "execution_count": 31,
   "id": "df92baad-9ba3-4113-9b06-735f1830fdd8",
   "metadata": {},
   "outputs": [],
   "source": [
    "def selection(i, l, r, arr):\n",
    "    pivot = partition(l, r, arr)\n",
    "    if i - 1 == pivot:\n",
    "        return arr[pivot]\n",
    "    elif pivot > i - 1:\n",
    "        return selection(i, l, pivot - 1, arr)\n",
    "    else:\n",
    "        return selection(i - pivot + 1, pivot + 1, r, arr)"
   ]
  },
  {
   "cell_type": "code",
   "execution_count": 33,
   "id": "8308eb69-c9f3-4c3b-b60c-62cc44370c77",
   "metadata": {},
   "outputs": [],
   "source": [
    "def partition(l, r, arr):\n",
    "    #n = int(random.random() * (r - l + 1)) + l\n",
    "    #arr[l], arr[n] = arr[n], arr[l]\n",
    "    pivot = l\n",
    "    s = r\n",
    "    j = 0\n",
    "    while pivot != s:\n",
    "        if pivot < s:\n",
    "            if arr[pivot] > arr[s]:\n",
    "                arr[pivot], arr[s] = arr[s], arr[pivot]\n",
    "                pivot, s = s, pivot + 1\n",
    "            else:\n",
    "                s -= 1\n",
    "        else:\n",
    "            if arr[pivot] < arr[s]:\n",
    "                arr[pivot], arr[s] = arr[s], arr[pivot]\n",
    "                pivot, s = s, pivot - 1\n",
    "            else:\n",
    "                s += 1\n",
    "        j += 1\n",
    "    return pivot  "
   ]
  },
  {
   "cell_type": "code",
   "execution_count": 35,
   "id": "5bf3af63-708b-424a-8a12-b70bc437542e",
   "metadata": {},
   "outputs": [
    {
     "ename": "RecursionError",
     "evalue": "maximum recursion depth exceeded",
     "output_type": "error",
     "traceback": [
      "\u001b[1;31m---------------------------------------------------------------------------\u001b[0m",
      "\u001b[1;31mRecursionError\u001b[0m                            Traceback (most recent call last)",
      "Cell \u001b[1;32mIn[35], line 6\u001b[0m\n\u001b[0;32m      1\u001b[0m Input \u001b[38;5;241m=\u001b[39m [([\u001b[38;5;241m1\u001b[39m,\u001b[38;5;241m78\u001b[39m,\u001b[38;5;241m13\u001b[39m,\u001b[38;5;241m7\u001b[39m,\u001b[38;5;241m-\u001b[39m\u001b[38;5;241m1\u001b[39m,\u001b[38;5;241m0\u001b[39m,\u001b[38;5;241m13\u001b[39m,\u001b[38;5;241m-\u001b[39m\u001b[38;5;241m20\u001b[39m,\u001b[38;5;241m11\u001b[39m,\u001b[38;5;241m6\u001b[39m], \u001b[38;5;241m3\u001b[39m),\n\u001b[0;32m      2\u001b[0m          ([\u001b[38;5;241m1\u001b[39m,\u001b[38;5;241m78\u001b[39m,\u001b[38;5;241m13\u001b[39m,\u001b[38;5;241m7\u001b[39m,\u001b[38;5;241m-\u001b[39m\u001b[38;5;241m1\u001b[39m,\u001b[38;5;241m0\u001b[39m,\u001b[38;5;241m13\u001b[39m,\u001b[38;5;241m-\u001b[39m\u001b[38;5;241m20\u001b[39m,\u001b[38;5;241m11\u001b[39m,\u001b[38;5;241m6\u001b[39m], \u001b[38;5;241m9\u001b[39m),\n\u001b[0;32m      3\u001b[0m          ([\u001b[38;5;241m1\u001b[39m,\u001b[38;5;241m728\u001b[39m,\u001b[38;5;241m73\u001b[39m,\u001b[38;5;241m7\u001b[39m,\u001b[38;5;241m-\u001b[39m\u001b[38;5;241m1\u001b[39m,\u001b[38;5;241m0\u001b[39m,\u001b[38;5;241m13\u001b[39m,\u001b[38;5;241m-\u001b[39m\u001b[38;5;241m270\u001b[39m,\u001b[38;5;241m1\u001b[39m,\u001b[38;5;241m2\u001b[39m], \u001b[38;5;241m4\u001b[39m)]\n\u001b[0;32m      5\u001b[0m \u001b[38;5;28;01mfor\u001b[39;00m arr, i \u001b[38;5;129;01min\u001b[39;00m Input:\n\u001b[1;32m----> 6\u001b[0m     \u001b[38;5;28mprint\u001b[39m(selection(i, \u001b[38;5;241m0\u001b[39m, \u001b[38;5;28mlen\u001b[39m(arr)\u001b[38;5;241m-\u001b[39m\u001b[38;5;241m1\u001b[39m, arr))\n",
      "Cell \u001b[1;32mIn[31], line 6\u001b[0m, in \u001b[0;36mselection\u001b[1;34m(i, l, r, arr)\u001b[0m\n\u001b[0;32m      4\u001b[0m     \u001b[38;5;28;01mreturn\u001b[39;00m arr[pivot]\n\u001b[0;32m      5\u001b[0m \u001b[38;5;28;01melif\u001b[39;00m pivot \u001b[38;5;241m>\u001b[39m i \u001b[38;5;241m-\u001b[39m \u001b[38;5;241m1\u001b[39m:\n\u001b[1;32m----> 6\u001b[0m     \u001b[38;5;28;01mreturn\u001b[39;00m selection(i, l, pivot \u001b[38;5;241m-\u001b[39m \u001b[38;5;241m1\u001b[39m, arr)\n\u001b[0;32m      7\u001b[0m \u001b[38;5;28;01melse\u001b[39;00m:\n\u001b[0;32m      8\u001b[0m     \u001b[38;5;28;01mreturn\u001b[39;00m selection(i \u001b[38;5;241m-\u001b[39m pivot \u001b[38;5;241m+\u001b[39m \u001b[38;5;241m1\u001b[39m, pivot \u001b[38;5;241m+\u001b[39m \u001b[38;5;241m1\u001b[39m, r, arr)\n",
      "Cell \u001b[1;32mIn[31], line 8\u001b[0m, in \u001b[0;36mselection\u001b[1;34m(i, l, r, arr)\u001b[0m\n\u001b[0;32m      6\u001b[0m     \u001b[38;5;28;01mreturn\u001b[39;00m selection(i, l, pivot \u001b[38;5;241m-\u001b[39m \u001b[38;5;241m1\u001b[39m, arr)\n\u001b[0;32m      7\u001b[0m \u001b[38;5;28;01melse\u001b[39;00m:\n\u001b[1;32m----> 8\u001b[0m     \u001b[38;5;28;01mreturn\u001b[39;00m selection(i \u001b[38;5;241m-\u001b[39m pivot \u001b[38;5;241m+\u001b[39m \u001b[38;5;241m1\u001b[39m, pivot \u001b[38;5;241m+\u001b[39m \u001b[38;5;241m1\u001b[39m, r, arr)\n",
      "Cell \u001b[1;32mIn[31], line 8\u001b[0m, in \u001b[0;36mselection\u001b[1;34m(i, l, r, arr)\u001b[0m\n\u001b[0;32m      6\u001b[0m     \u001b[38;5;28;01mreturn\u001b[39;00m selection(i, l, pivot \u001b[38;5;241m-\u001b[39m \u001b[38;5;241m1\u001b[39m, arr)\n\u001b[0;32m      7\u001b[0m \u001b[38;5;28;01melse\u001b[39;00m:\n\u001b[1;32m----> 8\u001b[0m     \u001b[38;5;28;01mreturn\u001b[39;00m selection(i \u001b[38;5;241m-\u001b[39m pivot \u001b[38;5;241m+\u001b[39m \u001b[38;5;241m1\u001b[39m, pivot \u001b[38;5;241m+\u001b[39m \u001b[38;5;241m1\u001b[39m, r, arr)\n",
      "Cell \u001b[1;32mIn[31], line 6\u001b[0m, in \u001b[0;36mselection\u001b[1;34m(i, l, r, arr)\u001b[0m\n\u001b[0;32m      4\u001b[0m     \u001b[38;5;28;01mreturn\u001b[39;00m arr[pivot]\n\u001b[0;32m      5\u001b[0m \u001b[38;5;28;01melif\u001b[39;00m pivot \u001b[38;5;241m>\u001b[39m i \u001b[38;5;241m-\u001b[39m \u001b[38;5;241m1\u001b[39m:\n\u001b[1;32m----> 6\u001b[0m     \u001b[38;5;28;01mreturn\u001b[39;00m selection(i, l, pivot \u001b[38;5;241m-\u001b[39m \u001b[38;5;241m1\u001b[39m, arr)\n\u001b[0;32m      7\u001b[0m \u001b[38;5;28;01melse\u001b[39;00m:\n\u001b[0;32m      8\u001b[0m     \u001b[38;5;28;01mreturn\u001b[39;00m selection(i \u001b[38;5;241m-\u001b[39m pivot \u001b[38;5;241m+\u001b[39m \u001b[38;5;241m1\u001b[39m, pivot \u001b[38;5;241m+\u001b[39m \u001b[38;5;241m1\u001b[39m, r, arr)\n",
      "Cell \u001b[1;32mIn[31], line 6\u001b[0m, in \u001b[0;36mselection\u001b[1;34m(i, l, r, arr)\u001b[0m\n\u001b[0;32m      4\u001b[0m     \u001b[38;5;28;01mreturn\u001b[39;00m arr[pivot]\n\u001b[0;32m      5\u001b[0m \u001b[38;5;28;01melif\u001b[39;00m pivot \u001b[38;5;241m>\u001b[39m i \u001b[38;5;241m-\u001b[39m \u001b[38;5;241m1\u001b[39m:\n\u001b[1;32m----> 6\u001b[0m     \u001b[38;5;28;01mreturn\u001b[39;00m selection(i, l, pivot \u001b[38;5;241m-\u001b[39m \u001b[38;5;241m1\u001b[39m, arr)\n\u001b[0;32m      7\u001b[0m \u001b[38;5;28;01melse\u001b[39;00m:\n\u001b[0;32m      8\u001b[0m     \u001b[38;5;28;01mreturn\u001b[39;00m selection(i \u001b[38;5;241m-\u001b[39m pivot \u001b[38;5;241m+\u001b[39m \u001b[38;5;241m1\u001b[39m, pivot \u001b[38;5;241m+\u001b[39m \u001b[38;5;241m1\u001b[39m, r, arr)\n",
      "    \u001b[1;31m[... skipping similar frames: selection at line 6 (2970 times)]\u001b[0m\n",
      "Cell \u001b[1;32mIn[31], line 6\u001b[0m, in \u001b[0;36mselection\u001b[1;34m(i, l, r, arr)\u001b[0m\n\u001b[0;32m      4\u001b[0m     \u001b[38;5;28;01mreturn\u001b[39;00m arr[pivot]\n\u001b[0;32m      5\u001b[0m \u001b[38;5;28;01melif\u001b[39;00m pivot \u001b[38;5;241m>\u001b[39m i \u001b[38;5;241m-\u001b[39m \u001b[38;5;241m1\u001b[39m:\n\u001b[1;32m----> 6\u001b[0m     \u001b[38;5;28;01mreturn\u001b[39;00m selection(i, l, pivot \u001b[38;5;241m-\u001b[39m \u001b[38;5;241m1\u001b[39m, arr)\n\u001b[0;32m      7\u001b[0m \u001b[38;5;28;01melse\u001b[39;00m:\n\u001b[0;32m      8\u001b[0m     \u001b[38;5;28;01mreturn\u001b[39;00m selection(i \u001b[38;5;241m-\u001b[39m pivot \u001b[38;5;241m+\u001b[39m \u001b[38;5;241m1\u001b[39m, pivot \u001b[38;5;241m+\u001b[39m \u001b[38;5;241m1\u001b[39m, r, arr)\n",
      "Cell \u001b[1;32mIn[31], line 2\u001b[0m, in \u001b[0;36mselection\u001b[1;34m(i, l, r, arr)\u001b[0m\n\u001b[0;32m      1\u001b[0m \u001b[38;5;28;01mdef\u001b[39;00m \u001b[38;5;21mselection\u001b[39m(i, l, r, arr):\n\u001b[1;32m----> 2\u001b[0m     pivot \u001b[38;5;241m=\u001b[39m partition(l, r, arr)\n\u001b[0;32m      3\u001b[0m     \u001b[38;5;28;01mif\u001b[39;00m i \u001b[38;5;241m-\u001b[39m \u001b[38;5;241m1\u001b[39m \u001b[38;5;241m==\u001b[39m pivot:\n\u001b[0;32m      4\u001b[0m         \u001b[38;5;28;01mreturn\u001b[39;00m arr[pivot]\n",
      "\u001b[1;31mRecursionError\u001b[0m: maximum recursion depth exceeded"
     ]
    }
   ],
   "source": [
    "Input = [([1,78,13,7,-1,0,13,-20,11,6], 3),\n",
    "         ([1,78,13,7,-1,0,13,-20,11,6], 9),\n",
    "         ([1,728,73,7,-1,0,13,-270,1,2], 4)]\n",
    "\n",
    "for arr, i in Input:\n",
    "    print(selection(i, 0, len(arr)-1, arr))"
   ]
  },
  {
   "cell_type": "code",
   "execution_count": null,
   "id": "40bcfb59-3d30-43f8-ba99-f823bf7e4c10",
   "metadata": {},
   "outputs": [],
   "source": []
  }
 ],
 "metadata": {
  "kernelspec": {
   "display_name": "Python [conda env:base] *",
   "language": "python",
   "name": "conda-base-py"
  },
  "language_info": {
   "codemirror_mode": {
    "name": "ipython",
    "version": 3
   },
   "file_extension": ".py",
   "mimetype": "text/x-python",
   "name": "python",
   "nbconvert_exporter": "python",
   "pygments_lexer": "ipython3",
   "version": "3.12.7"
  }
 },
 "nbformat": 4,
 "nbformat_minor": 5
}
