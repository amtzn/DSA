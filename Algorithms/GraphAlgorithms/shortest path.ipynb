{
 "cells": [
  {
   "cell_type": "code",
   "execution_count": 38,
   "id": "9b19f1ba-73ae-49ec-978c-97014d5d76b4",
   "metadata": {},
   "outputs": [],
   "source": [
    "# we assume that the input is correct (no duplicates, edges with only vertices from zero to n-1)\n",
    "def create_graph(n, edges):\n",
    "    graph = [[] for _ in range(n)]\n",
    "    for u, v, w in edges:\n",
    "        graph[u].append((v, w))\n",
    "    return graph"
   ]
  },
  {
   "cell_type": "markdown",
   "id": "f3dd1fe3-d767-4e1c-8dfb-952d3dfad5c1",
   "metadata": {},
   "source": [
    "# Bellman Ford"
   ]
  },
  {
   "cell_type": "code",
   "execution_count": 27,
   "id": "a953a7ba-06a9-478a-9c64-ff492a7163fc",
   "metadata": {},
   "outputs": [],
   "source": [
    "def bellman_ford(s, n, edges):\n",
    "    d = [float(\"inf\") for _ in range(n)]\n",
    "    p = [None for _ in range(n)]\n",
    "    d[s] = 0\n",
    "\n",
    "    for i in range(n - 1):\n",
    "        for u, v, w in edges:\n",
    "            if d[u] + w < d[v]:\n",
    "                d[v] = d[u] + w\n",
    "                p[v] = u\n",
    "\n",
    "    for u, v, w in edges:\n",
    "        if d[u] + w < d[v]:\n",
    "            return \"NEGATIVE CYCLE!!!\"\n",
    "\n",
    "    return d, p"
   ]
  },
  {
   "cell_type": "code",
   "execution_count": 29,
   "id": "d4524100-f5a7-44dc-a4c3-ddfc3e1d78ad",
   "metadata": {},
   "outputs": [
    {
     "name": "stdout",
     "output_type": "stream",
     "text": [
      "([0, 8, 3, -4], [None, 0, 3, 0])\n",
      "NEGATIVE CYCLE!!!\n",
      "([0, 8, 9, 5, 7], [None, 3, 1, 0, 3])\n"
     ]
    }
   ],
   "source": [
    "graphs = [(4, [(0,1,8), (0,3,-4), (0,2,5), (1,2,-3), (1,3,1),(2,0,-2),(3,2,7)]),\n",
    "         (3, [(0,1,1),(1,2,2),(2,0,-10)]),\n",
    "         (5,[(0,1,10),(0,3,5),(1,2,1),(1,3,2),(2,4,2),(3,2,9),(3,4,2),(3,1,3),(4,2,3)])]\n",
    "for n, edges in graphs:\n",
    "    print(bellman_ford(0, n, edges))"
   ]
  },
  {
   "cell_type": "markdown",
   "id": "f3c446e8-51ef-4ae2-9290-faff3255c3e7",
   "metadata": {},
   "source": [
    "# Dijkstra"
   ]
  },
  {
   "cell_type": "code",
   "execution_count": 48,
   "id": "bbfc1e8e-2a43-4cb1-92f1-79e17faf6cc7",
   "metadata": {},
   "outputs": [],
   "source": [
    "import heapq"
   ]
  },
  {
   "cell_type": "code",
   "execution_count": 54,
   "id": "858c364f-8a29-450c-b523-dd98fb4528c2",
   "metadata": {},
   "outputs": [],
   "source": [
    "def dijkstra(s, n, graph):\n",
    "    d = [float(\"inf\") for _ in range(n)]\n",
    "    p = [None for _ in range(n)]\n",
    "    d[s] = 0\n",
    "    visited = set()\n",
    "    \n",
    "    pq = [(d[s], s)]\n",
    "    heapq.heapify(pq)\n",
    "\n",
    "    while pq:\n",
    "        _, u = heapq.heappop(pq)\n",
    "        if u not in visited:\n",
    "            visited.add(u)\n",
    "            for v, w in graph[u]:\n",
    "                if d[u] + w < d[v]:\n",
    "                    d[v] = d[u] + w\n",
    "                    p[v] = u\n",
    "                    heapq.heappush(pq, (d[v], v))\n",
    "    return d, p"
   ]
  },
  {
   "cell_type": "code",
   "execution_count": 56,
   "id": "efdc31d7-072d-4de2-89d0-f7d886c4d4da",
   "metadata": {},
   "outputs": [
    {
     "name": "stdout",
     "output_type": "stream",
     "text": [
      "([0, 8, 9, 5, 7], [None, 3, 1, 0, 3])\n"
     ]
    }
   ],
   "source": [
    "graphs = [(5,[(0,1,10),(0,3,5),(1,2,1),(1,3,2),(2,4,2),(3,2,9),(3,4,2),(3,1,3),(4,2,3)])]\n",
    "for n, graph in graphs:\n",
    "    g = create_graph(n, graph)\n",
    "    print(dijkstra(0, n, g))"
   ]
  },
  {
   "cell_type": "code",
   "execution_count": null,
   "id": "27d2d8e8-5c48-423b-b49c-5f7eab599444",
   "metadata": {},
   "outputs": [],
   "source": []
  }
 ],
 "metadata": {
  "kernelspec": {
   "display_name": "Python [conda env:base] *",
   "language": "python",
   "name": "conda-base-py"
  },
  "language_info": {
   "codemirror_mode": {
    "name": "ipython",
    "version": 3
   },
   "file_extension": ".py",
   "mimetype": "text/x-python",
   "name": "python",
   "nbconvert_exporter": "python",
   "pygments_lexer": "ipython3",
   "version": "3.12.7"
  }
 },
 "nbformat": 4,
 "nbformat_minor": 5
}
