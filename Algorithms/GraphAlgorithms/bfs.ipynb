{
 "cells": [
  {
   "cell_type": "code",
   "execution_count": 11,
   "id": "80b2b7de-9b2a-4c63-8089-7dd4ac207cbc",
   "metadata": {},
   "outputs": [],
   "source": [
    "# we assume that the input is correct (no duplicates, edges with only vertices from zero to n-1)\n",
    "def create_graph(n, edges):\n",
    "    graph = [[] for _ in range(n)]\n",
    "    for u, v in edges:\n",
    "        graph[u].append(v)\n",
    "    return graph"
   ]
  },
  {
   "cell_type": "code",
   "execution_count": 13,
   "id": "95d6fed3-6ca2-413e-b066-6cd09be03d32",
   "metadata": {},
   "outputs": [],
   "source": [
    "def bfs(s, graph):\n",
    "    res = []\n",
    "    l = [s]\n",
    "    visited = [False for _ in range(len(graph))]\n",
    "    visited[s] = True\n",
    "    while l:\n",
    "        res.append(l)\n",
    "        l = []\n",
    "        for u in res[-1]:\n",
    "            for v in graph[u]:\n",
    "                if not visited[v]:\n",
    "                    visited[v] = True\n",
    "                    l.append(v)\n",
    "    return res"
   ]
  },
  {
   "cell_type": "code",
   "execution_count": 28,
   "id": "5c074534-6f8d-4493-af4f-51e8c3959a55",
   "metadata": {},
   "outputs": [
    {
     "name": "stdout",
     "output_type": "stream",
     "text": [
      "[[2]]\n",
      "[[2], [0], [1]]\n",
      "[[2], [3]]\n",
      "[[2], [0, 3], [1, 5, 4]]\n"
     ]
    }
   ],
   "source": [
    "graphs = [(3, [(0,1), (1,2)]),\n",
    "          (3, [(0,1), (1,2), (2,0)]),\n",
    "          (5, [(0,1), (1,2), (2,3), (4,3), (4,2)]),\n",
    "          (6, [(0,1), (1,2), (2,0), (1,3), (3,5), (5,4), (4,1), (2,3), (3,4), (4,2)])]\n",
    "for n, graph in graphs:\n",
    "    g = create_graph(n, graph)\n",
    "    print(bfs(2, g))"
   ]
  },
  {
   "cell_type": "code",
   "execution_count": null,
   "id": "ba71cecc-6d6e-48d4-9b45-2b4279706339",
   "metadata": {},
   "outputs": [],
   "source": []
  }
 ],
 "metadata": {
  "kernelspec": {
   "display_name": "Python [conda env:base] *",
   "language": "python",
   "name": "conda-base-py"
  },
  "language_info": {
   "codemirror_mode": {
    "name": "ipython",
    "version": 3
   },
   "file_extension": ".py",
   "mimetype": "text/x-python",
   "name": "python",
   "nbconvert_exporter": "python",
   "pygments_lexer": "ipython3",
   "version": "3.12.7"
  }
 },
 "nbformat": 4,
 "nbformat_minor": 5
}
