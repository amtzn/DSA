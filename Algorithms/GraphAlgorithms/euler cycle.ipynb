{
 "cells": [
  {
   "cell_type": "code",
   "execution_count": 113,
   "id": "10e32f73-bd65-4437-b2b8-25daced7130f",
   "metadata": {},
   "outputs": [],
   "source": [
    "# we assume that the input is correct (no duplicates, edges with only vertices from zero to n-1)\n",
    "def create_directed_graph(n, edges):\n",
    "    graph = [[0, []] for _ in range(n)]\n",
    "    for u, v in edges:\n",
    "        graph[u][1].append([v, False])\n",
    "    return graph"
   ]
  },
  {
   "cell_type": "code",
   "execution_count": 115,
   "id": "15e86878-fa24-4b9f-ae33-ccd391558472",
   "metadata": {},
   "outputs": [],
   "source": [
    "def find_circuit(v, graph):\n",
    "    tour = [v]\n",
    "    while graph[v][0] < len(graph[v][1]):\n",
    "        if graph[v][1][graph[v][0]][1]:\n",
    "            graph[v][0] += 1\n",
    "            continue\n",
    "        graph[v][1][graph[v][0]][1] = True\n",
    "        tour.append(graph[v][1][graph[v][0]][0])\n",
    "        v = tour[-1]\n",
    "    return tour"
   ]
  },
  {
   "cell_type": "code",
   "execution_count": 117,
   "id": "bb45aa1a-20a6-487f-8718-bd54699e865a",
   "metadata": {},
   "outputs": [],
   "source": [
    "def euler(g):\n",
    "    circuit = find_circuit(0, g)\n",
    "    i = 0\n",
    "    while i < len(circuit):\n",
    "        if g[circuit[i]][0] < len(g[circuit[i]][1]):\n",
    "            tour = find_circuit(circuit[i], g)\n",
    "            circuit = circuit[:i] + tour + circuit[i+1:]\n",
    "            i += len(tour) - 1 \n",
    "        i += 1\n",
    "    return circuit"
   ]
  },
  {
   "cell_type": "code",
   "execution_count": 119,
   "id": "e3360442-5933-46c0-8046-0ee15ea321cc",
   "metadata": {},
   "outputs": [
    {
     "name": "stdout",
     "output_type": "stream",
     "text": [
      "[0, 1, 3, 5, 4, 1, 2, 3, 4, 2, 0]\n"
     ]
    }
   ],
   "source": [
    "graphs = [(6, [(0,1), (1,2), (2,0), (1,3), (3,5), (5,4), (4,1), (2,3), (3,4), (4,2)])]\n",
    "for n, gra in graphs:\n",
    "    g = create_directed_graph(n, gra)\n",
    "    print(euler(g))"
   ]
  }
 ],
 "metadata": {
  "kernelspec": {
   "display_name": "Python [conda env:base] *",
   "language": "python",
   "name": "conda-base-py"
  },
  "language_info": {
   "codemirror_mode": {
    "name": "ipython",
    "version": 3
   },
   "file_extension": ".py",
   "mimetype": "text/x-python",
   "name": "python",
   "nbconvert_exporter": "python",
   "pygments_lexer": "ipython3",
   "version": "3.12.7"
  }
 },
 "nbformat": 4,
 "nbformat_minor": 5
}
