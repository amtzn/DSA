{
 "cells": [
  {
   "cell_type": "code",
   "execution_count": 93,
   "id": "df6eeaa7-d580-4cb9-a59d-bf6708f74ae2",
   "metadata": {},
   "outputs": [],
   "source": [
    "# we assume that the input is correct (no duplicates, edges with only vertices from zero to n-1)\n",
    "def create_graph(n, edges):\n",
    "    graph = [[] for _ in range(n)]\n",
    "    for u, v in edges:\n",
    "        graph[u].append(v)\n",
    "    return graph"
   ]
  },
  {
   "cell_type": "code",
   "execution_count": 95,
   "id": "108cdaa2-7ba4-4173-b019-49a240b32196",
   "metadata": {},
   "outputs": [],
   "source": [
    "import collections"
   ]
  },
  {
   "cell_type": "code",
   "execution_count": 97,
   "id": "4667fc71-eab6-4a63-91fb-5ddd47cbe0da",
   "metadata": {},
   "outputs": [],
   "source": [
    "def topological_sort(graph):\n",
    "    res = []\n",
    "    indegree = [0 for _ in range(len(graph))]\n",
    "    q = collections.deque([])\n",
    "    for v in range(len(graph)):\n",
    "        for u in graph[v]:\n",
    "            indegree[u] += 1\n",
    "    for i in range(len(indegree)):\n",
    "        if indegree[i] == 0:\n",
    "            q.appendleft(i)\n",
    "    while q:\n",
    "        v = q.pop()\n",
    "        res.append(v)\n",
    "        for u in graph[v]:\n",
    "            indegree[u] -= 1\n",
    "            if indegree[u] == 0:\n",
    "                q.appendleft(u)\n",
    "    for i in range(len(indegree)):\n",
    "        if indegree[i] > 0:\n",
    "            return \"There is a CYCLE!!!\"\n",
    "    return res     "
   ]
  },
  {
   "cell_type": "code",
   "execution_count": 101,
   "id": "2a864a3c-5ede-453a-b592-232e82b91939",
   "metadata": {},
   "outputs": [
    {
     "name": "stdout",
     "output_type": "stream",
     "text": [
      "[0, 1, 2]\n",
      "There is a CYCLE!!!\n",
      "[0, 4, 1, 2, 3]\n"
     ]
    }
   ],
   "source": [
    "graphs = [(3, [(0,1), (1,2)]),\n",
    "          (3, [(0,1), (1,2), (2,0)]),\n",
    "          (5, [(0,1), (1,2), (2,3), (4,3), (4,2)])]\n",
    "for n, graph in graphs:\n",
    "    g = create_graph(n, graph)\n",
    "    print(topological_sort(g))"
   ]
  },
  {
   "cell_type": "code",
   "execution_count": null,
   "id": "6689eb7a-c548-4452-a59f-11e049faa025",
   "metadata": {},
   "outputs": [],
   "source": []
  }
 ],
 "metadata": {
  "kernelspec": {
   "display_name": "Python [conda env:base] *",
   "language": "python",
   "name": "conda-base-py"
  },
  "language_info": {
   "codemirror_mode": {
    "name": "ipython",
    "version": 3
   },
   "file_extension": ".py",
   "mimetype": "text/x-python",
   "name": "python",
   "nbconvert_exporter": "python",
   "pygments_lexer": "ipython3",
   "version": "3.12.7"
  }
 },
 "nbformat": 4,
 "nbformat_minor": 5
}
