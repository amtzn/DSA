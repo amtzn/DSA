{
 "cells": [
  {
   "cell_type": "markdown",
   "id": "481a823c-27ff-4a47-a0f7-5fe6d8e4a0d7",
   "metadata": {},
   "source": [
    "# Binary Search"
   ]
  },
  {
   "cell_type": "raw",
   "id": "4de1439b-6de3-4377-b1a2-9c2ca8281e99",
   "metadata": {},
   "source": [
    "קלט: מערך של איברים מטיפוס נתונים עליו מוגדר יחס סדר, סדרת האיברים ממויינת ואיבר לבדיקה\n",
    "פלט: אמת אם האיבר נמצא במערך ושקר אחרת\n",
    "אילוצים : זמן ריצה - O(log(n))\n",
    "כאשר n הוא הוא מספר איברי המערך."
   ]
  },
  {
   "cell_type": "code",
   "execution_count": 19,
   "id": "f009f803-ce2a-46c8-8d22-c137aade3b00",
   "metadata": {},
   "outputs": [],
   "source": [
    "def binary_search_rec(l, r, target, arr):\n",
    "    if l <= r:\n",
    "        mid = (l + r) // 2\n",
    "        if arr[mid] == target:\n",
    "            return True\n",
    "        elif mid > target:\n",
    "            return binary_search(l, mid - 1, target, arr)\n",
    "        else:\n",
    "            return binary_search(mid + 1, r, target, arr)\n",
    "    return False"
   ]
  },
  {
   "cell_type": "code",
   "execution_count": 21,
   "id": "4a9b1282-cc95-450c-ae74-299688a2d0bd",
   "metadata": {},
   "outputs": [],
   "source": [
    "def binary_search_iter(target, arr):\n",
    "    l, r = 0, len(arr) - 1\n",
    "    while l <= r:\n",
    "        mid = (l + r) // 2\n",
    "        if arr[mid] == target:\n",
    "            return True\n",
    "        elif mid > target:\n",
    "            r = mid - 1\n",
    "        else:\n",
    "            l = mid + 1\n",
    "    return False"
   ]
  },
  {
   "cell_type": "code",
   "execution_count": 23,
   "id": "a8ac8d88-23c0-4186-8a9d-03fd78c82684",
   "metadata": {},
   "outputs": [
    {
     "name": "stdout",
     "output_type": "stream",
     "text": [
      "recursive: False\n",
      "iterative: False\n",
      "recursive: True\n",
      "iterative: True\n",
      "recursive: True\n",
      "iterative: True\n"
     ]
    }
   ],
   "source": [
    "Input = [([-15 ,-10, -6, 0, 1, 6, 17, 20, 24, 32, 77], 14),\n",
    "         ([-15 ,-10, -6, 0, 1, 6, 17, 20, 24, 32, 77], 32),\n",
    "         ([-15 ,-10, -6, 0, 1, 6, 17, 20, 24, 32, 77], -15)]\n",
    "\n",
    "for arr, target in Input:\n",
    "    print(\"recursive:\", binary_search_rec(0, len(arr) - 1, target, arr))\n",
    "    print(\"iterative:\", binary_search_iter(target, arr))"
   ]
  }
 ],
 "metadata": {
  "kernelspec": {
   "display_name": "Python [conda env:base] *",
   "language": "python",
   "name": "conda-base-py"
  },
  "language_info": {
   "codemirror_mode": {
    "name": "ipython",
    "version": 3
   },
   "file_extension": ".py",
   "mimetype": "text/x-python",
   "name": "python",
   "nbconvert_exporter": "python",
   "pygments_lexer": "ipython3",
   "version": "3.12.7"
  }
 },
 "nbformat": 4,
 "nbformat_minor": 5
}
