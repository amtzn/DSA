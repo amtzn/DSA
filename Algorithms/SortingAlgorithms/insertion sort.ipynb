{
 "cells": [
  {
   "cell_type": "markdown",
   "id": "ecbb0cb8-90a7-48ae-84f7-7e3f38fd2e40",
   "metadata": {},
   "source": [
    "# Insertion Sort"
   ]
  },
  {
   "cell_type": "raw",
   "id": "5b7e2364-8684-4a50-8cd8-97f3f5e78ac2",
   "metadata": {},
   "source": [
    "קלט: מערך של איברים מטיפוס נתונים עליו מוגדר יחס סדר >=\n",
    "פלט: תמורה (פרמוטציה) של האיברים המקיימים שכל איבר המערך קטן או שווה לאיברים הנמצאים מימינו וגדול או שווה לאיברים הנמצאים משמאלו"
   ]
  },
  {
   "cell_type": "code",
   "execution_count": 15,
   "id": "f2ee3813-1987-421e-8286-b7691c87bff4",
   "metadata": {},
   "outputs": [],
   "source": [
    "def insertion_sort(arr):\n",
    "    for i in range(1, len(arr)):\n",
    "        for j in range(i - 1, -1, -1):\n",
    "            if arr[j] > arr[j + 1]:\n",
    "                arr[j], arr[j + 1] = arr[j + 1], arr[j]\n",
    "            else:\n",
    "                break"
   ]
  },
  {
   "cell_type": "code",
   "execution_count": 17,
   "id": "2aecdb4e-d3ad-4cbf-814d-0be147e16415",
   "metadata": {},
   "outputs": [
    {
     "name": "stdout",
     "output_type": "stream",
     "text": [
      "[-1000, -30, -1, 0, 0, 19, 29, 42, 99, 288]\n",
      "['', 'Grkf', 'a', 'aaa', 'anr', 'b', 'gdgrhgghf']\n"
     ]
    }
   ],
   "source": [
    "Input = [[0, 19, 288, -30, -1, 29, 0, -1000, 42, 99],\n",
    "         [\"anr\", \"Grkf\", \"b\", \"a\", \"\", \"gdgrhgghf\", \"aaa\"]]\n",
    "\n",
    "for arr in Input:\n",
    "    insertion_sort(arr)\n",
    "    print(arr)"
   ]
  },
  {
   "cell_type": "code",
   "execution_count": null,
   "id": "a18d8076-8f2a-4137-8f35-875dd35feb55",
   "metadata": {},
   "outputs": [],
   "source": []
  }
 ],
 "metadata": {
  "kernelspec": {
   "display_name": "Python [conda env:base] *",
   "language": "python",
   "name": "conda-base-py"
  },
  "language_info": {
   "codemirror_mode": {
    "name": "ipython",
    "version": 3
   },
   "file_extension": ".py",
   "mimetype": "text/x-python",
   "name": "python",
   "nbconvert_exporter": "python",
   "pygments_lexer": "ipython3",
   "version": "3.12.7"
  }
 },
 "nbformat": 4,
 "nbformat_minor": 5
}
