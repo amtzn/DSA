{
 "cells": [
  {
   "cell_type": "markdown",
   "id": "1b949dfa-98d2-4aa6-a60e-aff7dabb3bce",
   "metadata": {},
   "source": [
    "# Radix Sort"
   ]
  },
  {
   "cell_type": "code",
   "execution_count": 23,
   "id": "516d67b3-33a6-40dc-8984-48a0861f6fee",
   "metadata": {},
   "outputs": [],
   "source": [
    "import collections"
   ]
  },
  {
   "cell_type": "code",
   "execution_count": 37,
   "id": "681767a3-87ca-4661-bb13-386174f6658a",
   "metadata": {},
   "outputs": [],
   "source": [
    "def radix_sort(d, k, arr):\n",
    "    for i in range(d):\n",
    "        bucket_sort(d, i, k, arr)"
   ]
  },
  {
   "cell_type": "code",
   "execution_count": 43,
   "id": "b7cad1ca-2a57-4ff9-9364-51e7ddef2b9f",
   "metadata": {},
   "outputs": [],
   "source": [
    "def bucket_sort(d, i, k, arr):\n",
    "    buckets = [collections.deque() for _ in range(k)]\n",
    "    for elem in arr:\n",
    "        buckets[int(elem[d - i - 1])].append(elem)\n",
    "    p = 0\n",
    "    for b in buckets:\n",
    "        while b:\n",
    "            arr[p] = b.popleft()\n",
    "            p += 1"
   ]
  },
  {
   "cell_type": "code",
   "execution_count": 45,
   "id": "ea2b6dd7-6f8c-4048-92eb-3a1af2182ba1",
   "metadata": {},
   "outputs": [
    {
     "name": "stdout",
     "output_type": "stream",
     "text": [
      "['19030', '28173', '38172', '38173', '81361', '91848', '98588']\n"
     ]
    }
   ],
   "source": [
    "arr = [\"38173\", \"91848\", \"81361\", \"98588\", \"19030\", \"28173\", \"38172\"]\n",
    "radix_sort(5, 10, arr)\n",
    "print(arr)"
   ]
  },
  {
   "cell_type": "code",
   "execution_count": null,
   "id": "9aad5f04-bee5-4f0c-a048-413d8e109795",
   "metadata": {},
   "outputs": [],
   "source": []
  }
 ],
 "metadata": {
  "kernelspec": {
   "display_name": "Python [conda env:base] *",
   "language": "python",
   "name": "conda-base-py"
  },
  "language_info": {
   "codemirror_mode": {
    "name": "ipython",
    "version": 3
   },
   "file_extension": ".py",
   "mimetype": "text/x-python",
   "name": "python",
   "nbconvert_exporter": "python",
   "pygments_lexer": "ipython3",
   "version": "3.12.7"
  }
 },
 "nbformat": 4,
 "nbformat_minor": 5
}
