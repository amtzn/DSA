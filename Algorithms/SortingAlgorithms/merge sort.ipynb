{
 "cells": [
  {
   "cell_type": "markdown",
   "id": "ab8dc210-6e4f-4f44-8b4a-d9d0d704e171",
   "metadata": {},
   "source": [
    "# Merge Sort"
   ]
  },
  {
   "cell_type": "raw",
   "id": "173c7534-cfd8-4370-909e-dd64ecb84ac9",
   "metadata": {},
   "source": [
    "קלט: מערך של איברים מטיפוס נתונים עליו מוגדר יחס סדר >=\n",
    "פלט: תמורה (פרמוטציה) של האיברים המקיימים שכל איבר המערך קטן או שווה לאיברים הנמצאים מימינו וגדול או שווה לאיברים הנמצאים משמאלו"
   ]
  },
  {
   "cell_type": "code",
   "execution_count": 10,
   "id": "8ed6ff99-4617-43b5-a69a-534600ac5ec6",
   "metadata": {},
   "outputs": [],
   "source": [
    "def merge_sort(l, r, arr, aux_arr):\n",
    "    if r - l >= 1:\n",
    "        mid = (l + r) // 2\n",
    "        merge_sort(l, mid, arr, aux_arr)\n",
    "        merge_sort(mid + 1, r, arr, aux_arr)\n",
    "        merge(l, r, arr, aux_arr)    "
   ]
  },
  {
   "cell_type": "code",
   "execution_count": 12,
   "id": "c39b8704-e222-4711-8049-b1937e182b5e",
   "metadata": {},
   "outputs": [],
   "source": [
    "def merge(l, r, arr, aux_arr):\n",
    "    mid = (l + r) // 2\n",
    "    p1, p2, pa = l, mid + 1, l\n",
    "    while p1 <= mid and p2 <= r:\n",
    "        if arr[p1] <= arr[p2]:\n",
    "            aux_arr[pa] = arr[p1]\n",
    "            p1 += 1\n",
    "        else:\n",
    "            aux_arr[pa] = arr[p2]\n",
    "            p2 += 1\n",
    "        pa += 1\n",
    "    while p1 <= mid:\n",
    "            aux_arr[pa] = arr[p1]\n",
    "            p1 += 1\n",
    "            pa += 1\n",
    "    while p2 <= r:\n",
    "            aux_arr[pa] = arr[p2]\n",
    "            p2 += 1\n",
    "            pa += 1\n",
    "    for i in range(l, r + 1):\n",
    "        arr[i] = aux_arr[i]"
   ]
  },
  {
   "cell_type": "code",
   "execution_count": 14,
   "id": "926b941c-5a88-4970-8cb5-78cf95edfe53",
   "metadata": {},
   "outputs": [
    {
     "name": "stdout",
     "output_type": "stream",
     "text": [
      "[-1000, -30, -1, 0, 0, 19, 29, 42, 99, 288]\n",
      "['', 'Grkf', 'a', 'aaa', 'anr', 'b', 'gdgrhgghf']\n"
     ]
    }
   ],
   "source": [
    "Input = [[0, 19, 288, -30, -1, 29, 0, -1000, 42, 99],\n",
    "         [\"anr\", \"Grkf\", \"b\", \"a\", \"\", \"gdgrhgghf\", \"aaa\"]]\n",
    "\n",
    "for arr in Input:\n",
    "    aux_arr = [None for _ in range(len(arr))]\n",
    "    merge_sort(0, len(arr) - 1, arr, aux_arr)\n",
    "    print(arr)"
   ]
  },
  {
   "cell_type": "code",
   "execution_count": null,
   "id": "1620c734-f1c5-4716-a266-002a037106c6",
   "metadata": {},
   "outputs": [],
   "source": []
  }
 ],
 "metadata": {
  "kernelspec": {
   "display_name": "Python [conda env:base] *",
   "language": "python",
   "name": "conda-base-py"
  },
  "language_info": {
   "codemirror_mode": {
    "name": "ipython",
    "version": 3
   },
   "file_extension": ".py",
   "mimetype": "text/x-python",
   "name": "python",
   "nbconvert_exporter": "python",
   "pygments_lexer": "ipython3",
   "version": "3.12.7"
  }
 },
 "nbformat": 4,
 "nbformat_minor": 5
}
