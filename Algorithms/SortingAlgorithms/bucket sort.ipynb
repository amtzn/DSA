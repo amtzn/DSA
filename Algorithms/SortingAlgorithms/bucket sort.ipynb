{
 "cells": [
  {
   "cell_type": "markdown",
   "id": "b82513a4-cfad-45f8-ba98-119a9314ea4e",
   "metadata": {},
   "source": [
    "# Bucket Sort"
   ]
  },
  {
   "cell_type": "raw",
   "id": "50a2f450-d4fd-4ab6-8ce2-264545835620",
   "metadata": {},
   "source": [
    "קלט: מערך של איברים מטיפוס נתונים עליו מוגדר יחס סדר >= ואיבריו שייכים לתחום סופי\n",
    "פלט: תמורה (פרמוטציה) של האיברים המקיימים שכל איבר המערך קטן או שווה לאיברים הנמצאים מימינו וגדול או שווה לאיברים הנמצאים משמאלו"
   ]
  },
  {
   "cell_type": "code",
   "execution_count": 15,
   "id": "906fddb7-5cd4-40a1-9785-89632a6d4662",
   "metadata": {},
   "outputs": [],
   "source": [
    "def bucket_sort(arr):\n",
    "    if arr:\n",
    "        max_val = max(arr)\n",
    "        buckets = [0] * (max_val + 1)\n",
    "        for elem in arr:\n",
    "            buckets[elem] += 1\n",
    "        p = 0\n",
    "        for i, n in enumerate(buckets):\n",
    "            while n > 0:\n",
    "                arr[p] = i\n",
    "                n -= 1\n",
    "                p += 1"
   ]
  },
  {
   "cell_type": "code",
   "execution_count": 17,
   "id": "f4cb707e-96b7-4fd9-8563-57b34076612e",
   "metadata": {},
   "outputs": [
    {
     "name": "stdout",
     "output_type": "stream",
     "text": [
      "[0, 1, 1, 1, 1, 3, 3, 4, 5, 5, 5, 5, 6, 8, 9]\n",
      "[]\n",
      "[6, 6, 6, 6, 9, 9, 9, 9, 9, 9, 9]\n"
     ]
    }
   ],
   "source": [
    "Input = [[6,1,4,9,5,1,1,0,5,1,5,8,5,3,3],\n",
    "         [],\n",
    "         [9,9,9,9,9,9,6,6,6,6,9]]\n",
    "for arr in Input:\n",
    "    bucket_sort(arr)\n",
    "    print(arr)"
   ]
  }
 ],
 "metadata": {
  "kernelspec": {
   "display_name": "Python [conda env:base] *",
   "language": "python",
   "name": "conda-base-py"
  },
  "language_info": {
   "codemirror_mode": {
    "name": "ipython",
    "version": 3
   },
   "file_extension": ".py",
   "mimetype": "text/x-python",
   "name": "python",
   "nbconvert_exporter": "python",
   "pygments_lexer": "ipython3",
   "version": "3.12.7"
  }
 },
 "nbformat": 4,
 "nbformat_minor": 5
}
