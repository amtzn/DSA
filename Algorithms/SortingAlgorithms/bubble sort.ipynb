{
 "cells": [
  {
   "cell_type": "markdown",
   "id": "5c16ce54-a6e7-4f37-a1f4-00027a681f4a",
   "metadata": {},
   "source": [
    "# Bubble Sort"
   ]
  },
  {
   "cell_type": "raw",
   "id": "569f3d7d-6170-4b36-a57e-76dfd755daee",
   "metadata": {},
   "source": [
    "קלט: מערך של איברים מטיפוס נתונים עליו מוגדר יחס סדר >=\n",
    "פלט: תמורה (פרמוטציה) של האיברים המקיימים שכל איבר המערך קטן או שווה לאיברים הנמצאים מימינו וגדול או שווה לאיברים הנמצאים משמאלו"
   ]
  },
  {
   "cell_type": "code",
   "execution_count": 5,
   "id": "2b2d0fb2-02e0-4e47-a800-3c83895f8827",
   "metadata": {},
   "outputs": [],
   "source": [
    "def bubble_sort(arr):\n",
    "    for i in range(len(arr) - 1):\n",
    "        for j in range(len(arr) - i - 1):\n",
    "            if arr[j] > arr[j+1]:\n",
    "                arr[j], arr[j+1] = arr[j+1], arr[j]"
   ]
  },
  {
   "cell_type": "code",
   "execution_count": 7,
   "id": "fe769c43-094a-4add-bf20-cef8fbc7879b",
   "metadata": {},
   "outputs": [
    {
     "name": "stdout",
     "output_type": "stream",
     "text": [
      "[-1000, -30, -1, 0, 0, 19, 29, 42, 99, 288]\n",
      "['', 'Grkf', 'a', 'aaa', 'anr', 'b', 'gdgrhgghf']\n"
     ]
    }
   ],
   "source": [
    "Input = [[0, 19, 288, -30, -1, 29, 0, -1000, 42, 99],\n",
    "         [\"anr\", \"Grkf\", \"b\", \"a\", \"\", \"gdgrhgghf\", \"aaa\"]]\n",
    "\n",
    "for arr in Input:\n",
    "    bubble_sort(arr)\n",
    "    print(arr)"
   ]
  },
  {
   "cell_type": "code",
   "execution_count": null,
   "id": "31830d14-6984-496e-a470-c1453bc1a6d3",
   "metadata": {},
   "outputs": [],
   "source": []
  }
 ],
 "metadata": {
  "kernelspec": {
   "display_name": "Python [conda env:base] *",
   "language": "python",
   "name": "conda-base-py"
  },
  "language_info": {
   "codemirror_mode": {
    "name": "ipython",
    "version": 3
   },
   "file_extension": ".py",
   "mimetype": "text/x-python",
   "name": "python",
   "nbconvert_exporter": "python",
   "pygments_lexer": "ipython3",
   "version": "3.12.7"
  }
 },
 "nbformat": 4,
 "nbformat_minor": 5
}
