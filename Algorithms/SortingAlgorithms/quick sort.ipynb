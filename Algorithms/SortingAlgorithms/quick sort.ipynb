{
 "cells": [
  {
   "cell_type": "markdown",
   "id": "e8c84a0a-cf6b-4e45-b016-31810c0f427a",
   "metadata": {},
   "source": [
    "# Quick Sort"
   ]
  },
  {
   "cell_type": "raw",
   "id": "9922a76e-d44b-4b77-ae06-0f9ea3cf88eb",
   "metadata": {},
   "source": [
    "קלט: מערך של איברים מטיפוס נתונים עליו מוגדר יחס סדר >=\n",
    "פלט: תמורה (פרמוטציה) של האיברים המקיימים שכל איבר המערך קטן או שווה לאיברים הנמצאים מימינו וגדול או שווה לאיברים הנמצאים משמאלו"
   ]
  },
  {
   "cell_type": "code",
   "execution_count": 11,
   "id": "c825f46e-7bfd-4ac6-b9d2-550502157f16",
   "metadata": {},
   "outputs": [],
   "source": [
    "import random"
   ]
  },
  {
   "cell_type": "code",
   "execution_count": 13,
   "id": "ff81cf11-da39-4605-a2b0-a063740650e8",
   "metadata": {},
   "outputs": [],
   "source": [
    "def quick_sort(l, r, arr):\n",
    "    if r - l >= 1:\n",
    "        pivot = partition(l, r, arr)\n",
    "        quick_sort(l, pivot - 1, arr)\n",
    "        quick_sort(pivot + 1, r, arr)"
   ]
  },
  {
   "cell_type": "code",
   "execution_count": 15,
   "id": "4ed1fe00-4e89-4de1-b265-5b230ab527f5",
   "metadata": {},
   "outputs": [],
   "source": [
    "def partition(l, r, arr):\n",
    "    n = int(random.random() * (r - l + 1)) + l\n",
    "    arr[l], arr[n] = arr[n], arr[l]\n",
    "    pivot = l\n",
    "    s = r\n",
    "    j = 0\n",
    "    while pivot != s:\n",
    "        if pivot < s:\n",
    "            if arr[pivot] > arr[s]:\n",
    "                arr[pivot], arr[s] = arr[s], arr[pivot]\n",
    "                pivot, s = s, pivot + 1\n",
    "            else:\n",
    "                s -= 1\n",
    "        else:\n",
    "            if arr[pivot] < arr[s]:\n",
    "                arr[pivot], arr[s] = arr[s], arr[pivot]\n",
    "                pivot, s = s, pivot - 1\n",
    "            else:\n",
    "                s += 1\n",
    "        j += 1\n",
    "    return pivot     "
   ]
  },
  {
   "cell_type": "code",
   "execution_count": 17,
   "id": "fe123b31-429c-4b00-89bc-6709658af9d3",
   "metadata": {},
   "outputs": [
    {
     "name": "stdout",
     "output_type": "stream",
     "text": [
      "[-1000, -30, -1, 0, 0, 19, 29, 42, 99, 288]\n",
      "['', 'Grkf', 'a', 'aaa', 'anr', 'b', 'gdgrhgghf']\n"
     ]
    }
   ],
   "source": [
    "Input = [[0, 19, 288, -30, -1, 29, 0, -1000, 42, 99],\n",
    "         [\"anr\", \"Grkf\", \"b\", \"a\", \"\", \"gdgrhgghf\", \"aaa\"]]\n",
    "\n",
    "for arr in Input:\n",
    "    quick_sort(0, len(arr) - 1, arr)\n",
    "    print(arr)"
   ]
  },
  {
   "cell_type": "code",
   "execution_count": null,
   "id": "25aff66f-ff6d-4da8-bc24-ca4fd901d2ac",
   "metadata": {},
   "outputs": [],
   "source": []
  }
 ],
 "metadata": {
  "kernelspec": {
   "display_name": "Python [conda env:base] *",
   "language": "python",
   "name": "conda-base-py"
  },
  "language_info": {
   "codemirror_mode": {
    "name": "ipython",
    "version": 3
   },
   "file_extension": ".py",
   "mimetype": "text/x-python",
   "name": "python",
   "nbconvert_exporter": "python",
   "pygments_lexer": "ipython3",
   "version": "3.12.7"
  }
 },
 "nbformat": 4,
 "nbformat_minor": 5
}
